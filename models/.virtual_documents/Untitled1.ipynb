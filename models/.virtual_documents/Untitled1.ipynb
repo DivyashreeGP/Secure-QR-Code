import pandas as pd
from sklearn.model_selection import train_test_split
from sklearn.preprocessing import StandardScaler
from sklearn.pipeline import Pipeline, FeatureUnion
from sklearn.compose import ColumnTransformer
from sklearn.svm import LinearSVC
from sklearn.calibration import CalibratedClassifierCV
from sklearn.feature_extraction.text import TfidfVectorizer
from sklearn.metrics import classification_report, roc_auc_score

# Load CSV
df = pd.read_csv('URL_data.csv')

# Target variable
y = df['status'].map({'phishing': 1, 'legitimate': 0})  # binary encode target

# Features: separate URL text and numerical columns
url_col = 'url'
num_cols = df.columns.difference(['url', 'status'])

X_urls = df[url_col]
X_numeric = df[num_cols]



# TF-IDF vectorizer for URL text (char ngrams 3-5)
tfidf = TfidfVectorizer(analyzer='char_wb', ngram_range=(3,5))

# Standard scaler for numerical features
scaler = StandardScaler()

# Combine both
preprocessor = ColumnTransformer(
    transformers=[
        ('url_tfidf', tfidf, url_col),
        ('num', scaler, num_cols)
    ]
)



# Calibrated classifier to get probability outputs
from sklearn.svm import LinearSVC
from sklearn.calibration import CalibratedClassifierCV

base_svc = LinearSVC(C=0.1, random_state=42,max_iter=10000)
svc = CalibratedClassifierCV(estimator=base_svc)

pipeline = Pipeline([
    ('preprocessor', preprocessor),
    ('classifier', svc)
])



X = df[[url_col] + list(num_cols)]  # features including URL and numeric
X_train, X_test, y_train, y_test = train_test_split(X, y, test_size=0.2, random_state=42, stratify=y)

pipeline.fit(X_train, y_train)



y_pred = pipeline.predict(X_test)
y_proba = pipeline.predict_proba(X_test)[:, 1]  # phishing probability

print(classification_report(y_test, y_pred))
print("ROC AUC:", roc_auc_score(y_test, y_proba))



from sklearn.metrics import classification_report, roc_auc_score

# After training your pipeline:

# Predict on training data
y_train_pred = pipeline.predict(X_train)
y_train_proba = pipeline.predict_proba(X_train)[:, 1]

print("Training Metrics:")
print(classification_report(y_train, y_train_pred))
print("Training ROC AUC:", roc_auc_score(y_train, y_train_proba))

# Predict on test data
y_test_pred = pipeline.predict(X_test)
y_test_proba = pipeline.predict_proba(X_test)[:, 1]

print("Test Metrics:")
print(classification_report(y_test, y_test_pred))
print("Test ROC AUC:", roc_auc_score(y_test, y_test_proba))



from sklearn.model_selection import cross_val_score, learning_curve
import matplotlib.pyplot as plt
import numpy as np

# Assuming you have your pipeline defined as `pipeline`
# and your full dataset is X and y

# Cross-validation scores (5-fold by default)
cv_scores = cross_val_score(pipeline, X, y, cv=5, scoring='accuracy')
print("Cross-validation accuracy scores:", cv_scores)
print("Mean CV accuracy:", np.mean(cv_scores))

# Learning curve
train_sizes, train_scores, valid_scores = learning_curve(
    pipeline, X, y, cv=5, scoring='accuracy',
    train_sizes=np.linspace(0.1, 1.0, 10), n_jobs=-1
)

# Calculate mean and std for plotting
train_mean = np.mean(train_scores, axis=1)
train_std = np.std(train_scores, axis=1)
valid_mean = np.mean(valid_scores, axis=1)
valid_std = np.std(valid_scores, axis=1)

plt.figure(figsize=(8,6))
plt.plot(train_sizes, train_mean, 'o-', color='blue', label='Training score')
plt.plot(train_sizes, valid_mean, 'o-', color='green', label='Validation score')
plt.fill_between(train_sizes, train_mean - train_std, train_mean + train_std, alpha=0.1, color='blue')
plt.fill_between(train_sizes, valid_mean - valid_std, valid_mean + valid_std, alpha=0.1, color='green')
plt.xlabel('Training Set Size')
plt.ylabel('Accuracy')
plt.title('Learning Curve')
plt.legend(loc='best')
plt.grid(True)
plt.show()



import joblib

# Save
joblib.dump(pipeline, 'svm_model.pkl')



